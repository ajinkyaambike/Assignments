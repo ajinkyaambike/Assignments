{
 "cells": [
  {
   "cell_type": "markdown",
   "metadata": {},
   "source": [
    "# Assignment 2"
   ]
  },
  {
   "cell_type": "code",
   "execution_count": 2,
   "metadata": {},
   "outputs": [
    {
     "data": {
      "text/plain": [
       "62.0"
      ]
     },
     "execution_count": 2,
     "metadata": {},
     "output_type": "execute_result"
    }
   ],
   "source": [
    "km = 100\n",
    "miles = km * 0.62\n",
    "miles"
   ]
  },
  {
   "cell_type": "code",
   "execution_count": 4,
   "metadata": {},
   "outputs": [
    {
     "data": {
      "text/plain": [
       "86.0"
      ]
     },
     "execution_count": 4,
     "metadata": {},
     "output_type": "execute_result"
    }
   ],
   "source": [
    "C = 30\n",
    "F = (C * 9/5) + 32\n",
    "F"
   ]
  },
  {
   "cell_type": "code",
   "execution_count": 9,
   "metadata": {},
   "outputs": [
    {
     "name": "stdout",
     "output_type": "stream",
     "text": [
      "Select Operation\n",
      "Addition\n",
      "Subtraction\n",
      "Multiplication\n",
      "Division\n",
      "Enter the following options(1,2,3,4)4\n",
      "Enter 1st Number  45\n",
      "Enter 2nd Number  56\n",
      "45.0 / 56.0 = 0.8035714285714286\n",
      "Do you want to do next operation(yes/no?)no\n"
     ]
    }
   ],
   "source": [
    "## Display Calculator\n",
    "\n",
    "def add(a,b):\n",
    "    return a+b\n",
    "\n",
    "def subtract(a,b):\n",
    "    return a - b\n",
    "\n",
    "def multiply(a,b):\n",
    "    return a*b\n",
    "\n",
    "def divide(a,b):\n",
    "    return a/b\n",
    "\n",
    "print(\"Select Operation\")\n",
    "print(\"Addition\")\n",
    "print(\"Subtraction\")\n",
    "print(\"Multiplication\")\n",
    "print(\"Division\")\n",
    "\n",
    "while True:\n",
    "    choice = int(input(\"Enter the following options(1,2,3,4)\"))\n",
    "    if choice in (1,2,3,4):\n",
    "        num1 = float(input(\"Enter 1st Number  \"))\n",
    "        num2 = float(input(\"Enter 2nd Number  \"))\n",
    "        if choice == 1:\n",
    "            print(num1 ,\"+\", num2, \"=\" ,add(num1,num2))\n",
    "\n",
    "        elif choice == 2:\n",
    "            print(num1 ,\"-\" ,num2, \"=\" ,subtract(num1,num2))\n",
    "\n",
    "        elif choice == 3:\n",
    "            print(num1, \"*\", num2, \"=\" ,multiply(num1,num2))\n",
    "\n",
    "        elif choice == 4:\n",
    "            print(num1, \"/\" ,num2, \"=\" ,divide(num1,num2))\n",
    "        next_operation = input(\"Do you want to do next operation(yes/no?)\")\n",
    "        if next_operation == 'no':\n",
    "            break\n",
    "    else:\n",
    "        print(\"Invalid Input\")"
   ]
  },
  {
   "cell_type": "code",
   "execution_count": 10,
   "metadata": {},
   "outputs": [
    {
     "name": "stdout",
     "output_type": "stream",
     "text": [
      "Enter a value for b23\n",
      "Enter a value for a45\n",
      "Enter a value for c23\n",
      "(-0.25555555555555554-0.6676844083366051j)\n",
      "(-0.25555555555555554+0.6676844083366051j)\n"
     ]
    }
   ],
   "source": [
    "import cmath\n",
    "\n",
    "b = int(input(\"Enter a value for b\"))\n",
    "a = int(input(\"Enter a value for a\"))\n",
    "c = int(input(\"Enter a value for c\"))\n",
    "\n",
    "\n",
    "d = (b**2) - (4*a*c)\n",
    "\n",
    "\n",
    "sol1 = (-b-cmath.sqrt(d))/(2*a)\n",
    "sol2 = (-b+cmath.sqrt(d))/(2*a)\n",
    "\n",
    "print(sol1)\n",
    "print(sol2)"
   ]
  },
  {
   "cell_type": "code",
   "execution_count": 11,
   "metadata": {},
   "outputs": [
    {
     "name": "stdout",
     "output_type": "stream",
     "text": [
      "Before swapping: \n",
      "Value of x :  5  and y :  7\n",
      "After swapping: \n",
      "Value of x :  7  and y :  5\n"
     ]
    }
   ],
   "source": [
    "x = 5\n",
    "y = 7\n",
    " \n",
    "print (\"Before swapping: \")\n",
    "print(\"Value of x : \", x, \" and y : \", y)\n",
    " \n",
    "# code to swap 'x' and 'y'\n",
    "x, y = y, x\n",
    " \n",
    "print (\"After swapping: \")\n",
    "print(\"Value of x : \", x, \" and y : \", y)"
   ]
  },
  {
   "cell_type": "code",
   "execution_count": null,
   "metadata": {},
   "outputs": [],
   "source": []
  },
  {
   "cell_type": "code",
   "execution_count": null,
   "metadata": {},
   "outputs": [],
   "source": []
  }
 ],
 "metadata": {
  "kernelspec": {
   "display_name": "Python 3",
   "language": "python",
   "name": "python3"
  },
  "language_info": {
   "codemirror_mode": {
    "name": "ipython",
    "version": 3
   },
   "file_extension": ".py",
   "mimetype": "text/x-python",
   "name": "python",
   "nbconvert_exporter": "python",
   "pygments_lexer": "ipython3",
   "version": "3.7.6"
  }
 },
 "nbformat": 4,
 "nbformat_minor": 4
}
